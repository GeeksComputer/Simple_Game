{
 "cells": [
  {
   "cell_type": "markdown",
   "metadata": {},
   "source": [
    "Membuat direktori project dengan nama 'snakeGame' dan didalamnya buatlah berkas dengan nama yang sama yaitu 'snakeGame.py'. Setelah itu masukkan kode program untuk melakukan pengimport an library (pustaka) yang dibutuhkan agar dapat memanggil method / fungsi yang dibutuhkan."
   ]
  },
  {
   "cell_type": "code",
   "execution_count": null,
   "metadata": {},
   "outputs": [],
   "source": [
    "import pygame\n",
    "import time\n",
    "import random"
   ]
  },
  {
   "cell_type": "markdown",
   "metadata": {},
   "source": [
    "Kemudian melakukan pendeklarasian kecepatan ular dan pendeklarasian ukuran tampilan layar game."
   ]
  },
  {
   "cell_type": "code",
   "execution_count": null,
   "metadata": {},
   "outputs": [],
   "source": [
    "snake_speed = 15\n",
    "\n",
    "window_x = 720\n",
    "window_y = 480"
   ]
  },
  {
   "cell_type": "markdown",
   "metadata": {},
   "source": [
    "Selanjutnya melakukan pendefinisan warna game dan menginisialisasikan pygame."
   ]
  },
  {
   "cell_type": "code",
   "execution_count": null,
   "metadata": {},
   "outputs": [],
   "source": [
    "black = pygame.Color(0, 0, 0)\n",
    "white = pygame.Color(255, 255, 255)\n",
    "red = pygame.Color(255, 0, 0)\n",
    "green = pygame.Color(0, 255, 0)\n",
    "blue = pygame.Color(0, 0, 255)\n",
    "\n",
    "pygame.init()"
   ]
  },
  {
   "cell_type": "markdown",
   "metadata": {},
   "source": [
    "Melakukan penginisalisasian tulisan game (caption)."
   ]
  },
  {
   "cell_type": "code",
   "execution_count": null,
   "metadata": {},
   "outputs": [],
   "source": [
    "pygame.display.set_caption('Snakes Game')\n",
    "game_window = pygame.display.set_mode((window_x, window_y))"
   ]
  },
  {
   "cell_type": "markdown",
   "metadata": {},
   "source": [
    "Melakukan penginisialisasikan FPS (Frames Per Seconds) dan posisi karakter ular."
   ]
  },
  {
   "cell_type": "code",
   "execution_count": null,
   "metadata": {},
   "outputs": [],
   "source": [
    "fps = pygame.time.Clock()\n",
    "\n",
    "snake_position = [100, 50]"
   ]
  },
  {
   "cell_type": "markdown",
   "metadata": {},
   "source": [
    "Melakukan penginisialisasian badan ular, posisi makanan ular, kemunculan makanan ular."
   ]
  },
  {
   "cell_type": "code",
   "execution_count": null,
   "metadata": {},
   "outputs": [],
   "source": [
    "snake_body = [[100, 50],\n",
    "\t\t\t[90, 50],\n",
    "\t\t\t[80, 50],\n",
    "\t\t\t[70, 50]\n",
    "\t\t\t]\n",
    "\n",
    "fruit_position = [random.randrange(1, (window_x//10)) * 10,\n",
    "\t\t\t\trandom.randrange(1, (window_y//10)) * 10]\n",
    "\n",
    "fruit_spawn = True"
   ]
  },
  {
   "cell_type": "markdown",
   "metadata": {},
   "source": [
    "Melakukan penginisalisasian pengubahan arah ular dan score game."
   ]
  },
  {
   "cell_type": "code",
   "execution_count": null,
   "metadata": {},
   "outputs": [],
   "source": [
    "direction = 'RIGHT'\n",
    "change_to = direction\n",
    "\n",
    "score = 0"
   ]
  },
  {
   "cell_type": "markdown",
   "metadata": {},
   "source": [
    "Melakukan pemberian fungsi untuk menampung proses menampilkan nilai score pada game."
   ]
  },
  {
   "cell_type": "code",
   "execution_count": null,
   "metadata": {},
   "outputs": [],
   "source": [
    "def show_score(choice, color, font, size):\n",
    "\n",
    "\tscore_font = pygame.font.SysFont(font, size)\n",
    "\t\n",
    "\tscore_surface = score_font.render('Score : ' + str(score), True, color)\n",
    "\t\n",
    "\tscore_rect = score_surface.get_rect()\n",
    "\t\n",
    "\tgame_window.blit(score_surface, score_rect)"
   ]
  },
  {
   "cell_type": "markdown",
   "metadata": {},
   "source": [
    "Melakukan pemberian fungsi untuk menampung proses game telah berakhir."
   ]
  },
  {
   "cell_type": "code",
   "execution_count": null,
   "metadata": {},
   "outputs": [],
   "source": [
    "def game_over():\n",
    "\tmy_font = pygame.font.SysFont('times new roman', 50)\n",
    "\t\n",
    "\tgame_over_surface = my_font.render(\n",
    "\t\t'Your Score is : ' + str(score), True, red)\n",
    "\t\n",
    "\tgame_over_rect = game_over_surface.get_rect()\n",
    "\t\n",
    "\tgame_over_rect.midtop = (window_x/2, window_y/4)\n",
    "\n",
    "\tgame_window.blit(game_over_surface, game_over_rect)\n",
    "\tpygame.display.flip()\n",
    "\t\n",
    "\ttime.sleep(2)\n",
    "\t\n",
    "\tpygame.quit()\n",
    "\t\n",
    "\tquit()"
   ]
  },
  {
   "cell_type": "markdown",
   "metadata": {},
   "source": [
    "Melakukan pemberian perulangan tanpa batas (infinity loop) untuk menampung proses game agar game tersebut terus berjalan."
   ]
  },
  {
   "cell_type": "code",
   "execution_count": null,
   "metadata": {},
   "outputs": [],
   "source": [
    "while True:\n",
    "\tfor event in pygame.event.get():\n",
    "\t\tif event.type == pygame.KEYDOWN:\n",
    "\t\t\tif event.key == pygame.K_UP:\n",
    "\t\t\t\tchange_to = 'UP'\n",
    "\t\t\tif event.key == pygame.K_DOWN:\n",
    "\t\t\t\tchange_to = 'DOWN'\n",
    "\t\t\tif event.key == pygame.K_LEFT:\n",
    "\t\t\t\tchange_to = 'LEFT'\n",
    "\t\t\tif event.key == pygame.K_RIGHT:\n",
    "\t\t\t\tchange_to = 'RIGHT'\n",
    "\n",
    "\tif change_to == 'UP' and direction != 'DOWN':\n",
    "\t\tdirection = 'UP'\n",
    "\tif change_to == 'DOWN' and direction != 'UP':\n",
    "\t\tdirection = 'DOWN'\n",
    "\tif change_to == 'LEFT' and direction != 'RIGHT':\n",
    "\t\tdirection = 'LEFT'\n",
    "\tif change_to == 'RIGHT' and direction != 'LEFT':\n",
    "\t\tdirection = 'RIGHT'\n",
    "\n",
    "\tif direction == 'UP':\n",
    "\t\tsnake_position[1] -= 10\n",
    "\tif direction == 'DOWN':\n",
    "\t\tsnake_position[1] += 10\n",
    "\tif direction == 'LEFT':\n",
    "\t\tsnake_position[0] -= 10\n",
    "\tif direction == 'RIGHT':\n",
    "\t\tsnake_position[0] += 10\n",
    "\n",
    "\tsnake_body.insert(0, list(snake_position))\n",
    "\tif snake_position[0] == fruit_position[0] and snake_position[1] == fruit_position[1]:\n",
    "\t\tscore += 10\n",
    "\t\tfruit_spawn = False\n",
    "\telse:\n",
    "\t\tsnake_body.pop()\n",
    "\t\t\n",
    "\tif not fruit_spawn:\n",
    "\t\tfruit_position = [random.randrange(1, (window_x//10)) * 10,\n",
    "\t\t\t\t\t\trandom.randrange(1, (window_y//10)) * 10]\n",
    "\t\t\n",
    "\tfruit_spawn = True\n",
    "\tgame_window.fill(black)\n",
    "\t\n",
    "\tfor pos in snake_body:\n",
    "\t\tpygame.draw.rect(game_window, green,\n",
    "\t\t\t\t\t\tpygame.Rect(pos[0], pos[1], 10, 10))\n",
    "\tpygame.draw.rect(game_window, white, pygame.Rect(\n",
    "\t\tfruit_position[0], fruit_position[1], 10, 10))\n",
    "\n",
    "\tif snake_position[0] < 0 or snake_position[0] > window_x-10:\n",
    "\t\tgame_over()\n",
    "\tif snake_position[1] < 0 or snake_position[1] > window_y-10:\n",
    "\t\tgame_over()\n",
    "\n",
    "\tfor block in snake_body[1:]:\n",
    "\t\tif snake_position[0] == block[0] and snake_position[1] == block[1]:\n",
    "\t\t\tgame_over()\n",
    "\n",
    "\tshow_score(1, white, 'times new roman', 20)\n",
    "\n",
    "\tpygame.display.update()\n",
    "\n",
    "\tfps.tick(snake_speed)"
   ]
  },
  {
   "cell_type": "markdown",
   "metadata": {},
   "source": [
    "Jalankan game (permainan) ular dengan cara membuka commandlines atau terminal pada direktori dimana letak berkas berada."
   ]
  },
  {
   "cell_type": "code",
   "execution_count": null,
   "metadata": {
    "vscode": {
     "languageId": "shellscript"
    }
   },
   "outputs": [],
   "source": [
    "python3 snakeGame.py"
   ]
  },
  {
   "cell_type": "markdown",
   "metadata": {},
   "source": [
    "Full kode program:"
   ]
  },
  {
   "cell_type": "code",
   "execution_count": null,
   "metadata": {},
   "outputs": [],
   "source": [
    "import pygame\n",
    "import time\n",
    "import random\n",
    "\n",
    "snake_speed = 15\n",
    "\n",
    "window_x = 720\n",
    "window_y = 480\n",
    "\n",
    "black = pygame.Color(0, 0, 0)\n",
    "white = pygame.Color(255, 255, 255)\n",
    "red = pygame.Color(255, 0, 0)\n",
    "green = pygame.Color(0, 255, 0)\n",
    "blue = pygame.Color(0, 0, 255)\n",
    "\n",
    "pygame.init()\n",
    "\n",
    "pygame.display.set_caption('Snakes Game')\n",
    "game_window = pygame.display.set_mode((window_x, window_y))\n",
    "\n",
    "fps = pygame.time.Clock()\n",
    "\n",
    "snake_position = [100, 50]\n",
    "\n",
    "snake_body = [[100, 50],\n",
    "\t\t\t[90, 50],\n",
    "\t\t\t[80, 50],\n",
    "\t\t\t[70, 50]\n",
    "\t\t\t]\n",
    "\n",
    "fruit_position = [random.randrange(1, (window_x//10)) * 10,\n",
    "\t\t\t\trandom.randrange(1, (window_y//10)) * 10]\n",
    "\n",
    "fruit_spawn = True\n",
    "\n",
    "direction = 'RIGHT'\n",
    "change_to = direction\n",
    "\n",
    "score = 0\n",
    "\n",
    "def show_score(choice, color, font, size):\n",
    "\tscore_font = pygame.font.SysFont(font, size)\n",
    "\n",
    "\tscore_surface = score_font.render('Score : ' + str(score), True, color)\n",
    "\n",
    "\tscore_rect = score_surface.get_rect()\n",
    "\t\n",
    "\tgame_window.blit(score_surface, score_rect)\n",
    "\n",
    "def game_over():\n",
    "\tmy_font = pygame.font.SysFont('times new roman', 50)\n",
    "\t\n",
    "\tgame_over_surface = my_font.render(\n",
    "\t\t'Your Score is : ' + str(score), True, red)\n",
    "\t\n",
    "\tgame_over_rect = game_over_surface.get_rect()\n",
    "\t\n",
    "\tgame_over_rect.midtop = (window_x/2, window_y/4)\n",
    "\t\n",
    "\tgame_window.blit(game_over_surface, game_over_rect)\n",
    "\tpygame.display.flip()\n",
    "\t\n",
    "\ttime.sleep(2)\n",
    "\t\n",
    "\tpygame.quit()\n",
    "\t\n",
    "\tquit()\n",
    "\n",
    "while True:\n",
    "\tfor event in pygame.event.get():\n",
    "\t\tif event.type == pygame.KEYDOWN:\n",
    "\t\t\tif event.key == pygame.K_UP:\n",
    "\t\t\t\tchange_to = 'UP'\n",
    "\t\t\tif event.key == pygame.K_DOWN:\n",
    "\t\t\t\tchange_to = 'DOWN'\n",
    "\t\t\tif event.key == pygame.K_LEFT:\n",
    "\t\t\t\tchange_to = 'LEFT'\n",
    "\t\t\tif event.key == pygame.K_RIGHT:\n",
    "\t\t\t\tchange_to = 'RIGHT'\n",
    "\n",
    "\tif change_to == 'UP' and direction != 'DOWN':\n",
    "\t\tdirection = 'UP'\n",
    "\tif change_to == 'DOWN' and direction != 'UP':\n",
    "\t\tdirection = 'DOWN'\n",
    "\tif change_to == 'LEFT' and direction != 'RIGHT':\n",
    "\t\tdirection = 'LEFT'\n",
    "\tif change_to == 'RIGHT' and direction != 'LEFT':\n",
    "\t\tdirection = 'RIGHT'\n",
    "\n",
    "\tif direction == 'UP':\n",
    "\t\tsnake_position[1] -= 10\n",
    "\tif direction == 'DOWN':\n",
    "\t\tsnake_position[1] += 10\n",
    "\tif direction == 'LEFT':\n",
    "\t\tsnake_position[0] -= 10\n",
    "\tif direction == 'RIGHT':\n",
    "\t\tsnake_position[0] += 10\n",
    "\n",
    "\tsnake_body.insert(0, list(snake_position))\n",
    "\tif snake_position[0] == fruit_position[0] and snake_position[1] == fruit_position[1]:\n",
    "\t\tscore += 10\n",
    "\t\tfruit_spawn = False\n",
    "\telse:\n",
    "\t\tsnake_body.pop()\n",
    "\t\t\n",
    "\tif not fruit_spawn:\n",
    "\t\tfruit_position = [random.randrange(1, (window_x//10)) * 10,\n",
    "\t\t\t\t\t\trandom.randrange(1, (window_y//10)) * 10]\n",
    "\t\t\n",
    "\tfruit_spawn = True\n",
    "\tgame_window.fill(black)\n",
    "\t\n",
    "\tfor pos in snake_body:\n",
    "\t\tpygame.draw.rect(game_window, green,\n",
    "\t\t\t\t\t\tpygame.Rect(pos[0], pos[1], 10, 10))\n",
    "\tpygame.draw.rect(game_window, white, pygame.Rect(\n",
    "\t\tfruit_position[0], fruit_position[1], 10, 10))\n",
    "\n",
    "\tif snake_position[0] < 0 or snake_position[0] > window_x-10:\n",
    "\t\tgame_over()\n",
    "\tif snake_position[1] < 0 or snake_position[1] > window_y-10:\n",
    "\t\tgame_over()\n",
    "\n",
    "\tfor block in snake_body[1:]:\n",
    "\t\tif snake_position[0] == block[0] and snake_position[1] == block[1]:\n",
    "\t\t\tgame_over()\n",
    "\n",
    "\tshow_score(1, white, 'times new roman', 20)\n",
    "\n",
    "\tpygame.display.update()\n",
    "\n",
    "\tfps.tick(snake_speed)"
   ]
  }
 ],
 "metadata": {
  "language_info": {
   "name": "python"
  },
  "orig_nbformat": 4
 },
 "nbformat": 4,
 "nbformat_minor": 2
}
